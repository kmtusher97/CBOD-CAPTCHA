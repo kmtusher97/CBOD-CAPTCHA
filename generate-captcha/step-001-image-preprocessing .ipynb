{
 "cells": [
  {
   "cell_type": "code",
   "execution_count": 3,
   "id": "christian-conservation",
   "metadata": {},
   "outputs": [],
   "source": [
    "import os\n",
    "import glob\n",
    "import csv\n",
    "from PIL import Image\n",
    "from resizeimage import resizeimage"
   ]
  },
  {
   "cell_type": "code",
   "execution_count": 4,
   "id": "fundamental-characteristic",
   "metadata": {},
   "outputs": [],
   "source": [
    "raw_image_dir_path = './images_raw'\n",
    "captcha_image_dir_path = './images'\n",
    "\n",
    "square_size = [100, 100]\n",
    "image_id = 0\n",
    "\n",
    "with open(\"./data/image_data.csv\", 'w') as csv_file:\n",
    "    image_data_file = csv.writer(csv_file)\n",
    "    image_data_attributes = ['id', 'file_name', 'category']\n",
    "    image_data_file.writerow(image_data_attributes)\n",
    "\n",
    "    for image_path in os.listdir(raw_image_dir_path):\n",
    "        object_category = image_path.split('-')[0].lower()\n",
    "        image = Image.open(os.path.join(raw_image_dir_path, image_path))\n",
    "\n",
    "        file_name = 'img-' + str(image_id).zfill(6) + '.' + image.format.lower()\n",
    "        image_data_file.writerow([image_id, file_name, object_category])\n",
    "        image_id += 1\n",
    "\n",
    "        cover = resizeimage.resize_cover(image, square_size)\n",
    "        cover.save(os.path.join(captcha_image_dir_path, file_name), image.format)"
   ]
  },
  {
   "cell_type": "code",
   "execution_count": null,
   "id": "atomic-delaware",
   "metadata": {},
   "outputs": [],
   "source": []
  }
 ],
 "metadata": {
  "kernelspec": {
   "display_name": "Python 3",
   "language": "python",
   "name": "python3"
  },
  "language_info": {
   "codemirror_mode": {
    "name": "ipython",
    "version": 3
   },
   "file_extension": ".py",
   "mimetype": "text/x-python",
   "name": "python",
   "nbconvert_exporter": "python",
   "pygments_lexer": "ipython3",
   "version": "3.6.9-final"
  }
 },
 "nbformat": 4,
 "nbformat_minor": 5
}